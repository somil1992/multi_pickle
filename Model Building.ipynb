{
 "cells": [
  {
   "cell_type": "code",
   "execution_count": 16,
   "id": "d42744d4",
   "metadata": {},
   "outputs": [],
   "source": [
    "import pandas as pd\n",
    "from sklearn import linear_model\n",
    "import pickle\n",
    "import numpy as np\n",
    "from sklearn.datasets import load_iris\n",
    "from sklearn.neighbors import KNeighborsClassifier as KNN\n",
    "from sklearn.model_selection import train_test_split"
   ]
  },
  {
   "cell_type": "markdown",
   "id": "25c7831b",
   "metadata": {},
   "source": [
    "# Car Sales - Linear Regression"
   ]
  },
  {
   "cell_type": "code",
   "execution_count": 17,
   "id": "08a7bdf5",
   "metadata": {},
   "outputs": [
    {
     "data": {
      "text/plain": [
       "LinearRegression()"
      ]
     },
     "execution_count": 17,
     "metadata": {},
     "output_type": "execute_result"
    }
   ],
   "source": [
    "data = pd.read_csv('Car_Price_Data.csv')\n",
    "model=linear_model.LinearRegression()\n",
    "model.fit(data[['Mileage','Age']],data[['Sell_Price']])"
   ]
  },
  {
   "cell_type": "code",
   "execution_count": 18,
   "id": "3644397f",
   "metadata": {},
   "outputs": [],
   "source": [
    "output=model.predict([[44000,12]])"
   ]
  },
  {
   "cell_type": "code",
   "execution_count": 19,
   "id": "6176a8f2",
   "metadata": {},
   "outputs": [
    {
     "data": {
      "text/plain": [
       "30451.77773480026"
      ]
     },
     "execution_count": 19,
     "metadata": {},
     "output_type": "execute_result"
    }
   ],
   "source": [
    "output[0][0]"
   ]
  },
  {
   "cell_type": "code",
   "execution_count": 20,
   "id": "9ad84f64",
   "metadata": {},
   "outputs": [],
   "source": [
    "with open(\"model_car_sale_price_prediction_regression.pkl\",\"wb\") as f:\n",
    "    pickle.dump(model,f)"
   ]
  },
  {
   "cell_type": "code",
   "execution_count": 21,
   "id": "0f2bf32c",
   "metadata": {},
   "outputs": [],
   "source": [
    "#Testing Model"
   ]
  },
  {
   "cell_type": "code",
   "execution_count": 22,
   "id": "d6b3d225",
   "metadata": {},
   "outputs": [
    {
     "ename": "FileNotFoundError",
     "evalue": "[Errno 2] No such file or directory: 'model_car_sale_price_prediction_regression'",
     "output_type": "error",
     "traceback": [
      "\u001b[1;31m---------------------------------------------------------------------------\u001b[0m",
      "\u001b[1;31mFileNotFoundError\u001b[0m                         Traceback (most recent call last)",
      "\u001b[1;32m<ipython-input-22-8bbffc21e13e>\u001b[0m in \u001b[0;36m<module>\u001b[1;34m\u001b[0m\n\u001b[1;32m----> 1\u001b[1;33m \u001b[1;32mwith\u001b[0m \u001b[0mopen\u001b[0m\u001b[1;33m(\u001b[0m\u001b[1;34m\"model_car_sale_price_prediction_regression\"\u001b[0m\u001b[1;33m,\u001b[0m\u001b[1;34m\"rb\"\u001b[0m\u001b[1;33m)\u001b[0m \u001b[1;32mas\u001b[0m \u001b[0mf\u001b[0m\u001b[1;33m:\u001b[0m\u001b[1;33m\u001b[0m\u001b[1;33m\u001b[0m\u001b[0m\n\u001b[0m\u001b[0;32m      2\u001b[0m     \u001b[0mmp_car\u001b[0m\u001b[1;33m=\u001b[0m\u001b[0mpickle\u001b[0m\u001b[1;33m.\u001b[0m\u001b[0mload\u001b[0m\u001b[1;33m(\u001b[0m\u001b[0mf\u001b[0m\u001b[1;33m)\u001b[0m\u001b[1;33m\u001b[0m\u001b[1;33m\u001b[0m\u001b[0m\n",
      "\u001b[1;31mFileNotFoundError\u001b[0m: [Errno 2] No such file or directory: 'model_car_sale_price_prediction_regression'"
     ]
    }
   ],
   "source": [
    "with open(\"model_car_sale_price_prediction_regression\",\"rb\") as f:\n",
    "    mp_car=pickle.load(f)"
   ]
  },
  {
   "cell_type": "code",
   "execution_count": 23,
   "id": "f7f76412",
   "metadata": {},
   "outputs": [
    {
     "data": {
      "text/plain": [
       "array([[45502.98331281]])"
      ]
     },
     "execution_count": 23,
     "metadata": {},
     "output_type": "execute_result"
    }
   ],
   "source": [
    "mp_car.predict([[3434,11]])"
   ]
  },
  {
   "cell_type": "code",
   "execution_count": null,
   "id": "3dcf1878",
   "metadata": {},
   "outputs": [],
   "source": [
    "mp_car."
   ]
  },
  {
   "cell_type": "code",
   "execution_count": 39,
   "id": "9708e2f1",
   "metadata": {},
   "outputs": [
    {
     "data": {
      "text/plain": [
       "array([6.64610935e+04, 6.54005880e-01])"
      ]
     },
     "execution_count": 39,
     "metadata": {},
     "output_type": "execute_result"
    }
   ],
   "source": [
    "mp_car.singular_"
   ]
  },
  {
   "cell_type": "markdown",
   "id": "ef4d9070",
   "metadata": {},
   "source": [
    "# Iris Data - Classification Model"
   ]
  },
  {
   "cell_type": "code",
   "execution_count": 23,
   "id": "86861784",
   "metadata": {},
   "outputs": [
    {
     "data": {
      "text/plain": [
       "KNeighborsClassifier(n_neighbors=3)"
      ]
     },
     "execution_count": 23,
     "metadata": {},
     "output_type": "execute_result"
    }
   ],
   "source": [
    "iris = load_iris()\n",
    " \n",
    "X = iris.data\n",
    "y = iris.target\n",
    " \n",
    "# Split dataset into train and test\n",
    "X_train, X_test, y_train, y_test = \\\n",
    "    train_test_split(X, y, test_size = 0.3,\n",
    "                        random_state = 2018)\n",
    " \n",
    "# import KNeighborsClassifier model\n",
    "knn = KNN(n_neighbors = 3)\n",
    " \n",
    "# train model\n",
    "knn.fit(X_train, y_train)"
   ]
  },
  {
   "cell_type": "code",
   "execution_count": 24,
   "id": "237eded3",
   "metadata": {},
   "outputs": [],
   "source": [
    "with open(\"model_iris_classification.pkl\",\"wb\") as f:\n",
    "    pickle.dump(knn,f)"
   ]
  },
  {
   "cell_type": "code",
   "execution_count": 25,
   "id": "ad73df5f",
   "metadata": {},
   "outputs": [],
   "source": [
    "#Testing Model"
   ]
  },
  {
   "cell_type": "code",
   "execution_count": 27,
   "id": "b9423823",
   "metadata": {},
   "outputs": [],
   "source": [
    "with open(\"model_iris_classification.pkl\",\"rb\") as f:\n",
    "    mp_iris=pickle.load(f)"
   ]
  },
  {
   "cell_type": "code",
   "execution_count": 30,
   "id": "f7b20c25",
   "metadata": {},
   "outputs": [
    {
     "data": {
      "text/plain": [
       "KNeighborsClassifier(n_neighbors=3)"
      ]
     },
     "execution_count": 30,
     "metadata": {},
     "output_type": "execute_result"
    }
   ],
   "source": [
    "mp_iris"
   ]
  },
  {
   "cell_type": "code",
   "execution_count": 78,
   "id": "957fc02d",
   "metadata": {},
   "outputs": [
    {
     "data": {
      "text/plain": [
       "array([0, 1, 1])"
      ]
     },
     "execution_count": 78,
     "metadata": {},
     "output_type": "execute_result"
    }
   ],
   "source": [
    "#the loaded model to make predictions\n",
    "mp_iris.predict([[5.4, 3.4, 1.7, 0.2],\n",
    "       [5.5, 2.3, 4. , 0],\n",
    "       [5.6, 3. , 4.5, 1.5]])"
   ]
  },
  {
   "cell_type": "code",
   "execution_count": 39,
   "id": "e373137f",
   "metadata": {},
   "outputs": [],
   "source": [
    "x1 = 3.1\n",
    "x2 = 1\n",
    "x3 = 4\n",
    "x4 = 0.2\n",
    "prediction = mp_iris.predict([[x1,x2,x3,x4]])"
   ]
  },
  {
   "cell_type": "code",
   "execution_count": 41,
   "id": "9b0e6ace",
   "metadata": {},
   "outputs": [
    {
     "name": "stdout",
     "output_type": "stream",
     "text": [
      "1\n"
     ]
    }
   ],
   "source": [
    "print(prediction[0])\n",
    "\n",
    "\n"
   ]
  },
  {
   "cell_type": "code",
   "execution_count": 35,
   "id": "4416b184",
   "metadata": {},
   "outputs": [],
   "source": [
    "x1='21'\n",
    "x2='22'\n",
    "\n",
    "a=x1+x2"
   ]
  },
  {
   "cell_type": "code",
   "execution_count": 37,
   "id": "8b76ef16",
   "metadata": {},
   "outputs": [],
   "source": [
    "x1=float(x1)\n",
    "x2=float(x2)\n",
    "\n",
    "b=x1+x2"
   ]
  },
  {
   "cell_type": "code",
   "execution_count": 38,
   "id": "445ae4a6",
   "metadata": {},
   "outputs": [
    {
     "data": {
      "text/plain": [
       "43.0"
      ]
     },
     "execution_count": 38,
     "metadata": {},
     "output_type": "execute_result"
    }
   ],
   "source": [
    "b"
   ]
  },
  {
   "cell_type": "code",
   "execution_count": 42,
   "id": "7daaee7c",
   "metadata": {},
   "outputs": [
    {
     "name": "stderr",
     "output_type": "stream",
     "text": [
      "ERROR: Could not find a version that satisfies the requirement json\n",
      "ERROR: No matching distribution found for json\n"
     ]
    }
   ],
   "source": [
    "!pip install json"
   ]
  },
  {
   "cell_type": "code",
   "execution_count": 45,
   "id": "beb8abc0",
   "metadata": {},
   "outputs": [
    {
     "name": "stdout",
     "output_type": "stream",
     "text": [
      "Requirement already satisfied: numpy in c:\\users\\somil.a.rastogi\\anaconda3\\lib\\site-packages (1.21.4)\n"
     ]
    }
   ],
   "source": [
    "!pip install numpy"
   ]
  },
  {
   "cell_type": "code",
   "execution_count": null,
   "id": "21f6dbe6",
   "metadata": {},
   "outputs": [],
   "source": []
  }
 ],
 "metadata": {
  "kernelspec": {
   "display_name": "Python 3",
   "language": "python",
   "name": "python3"
  },
  "language_info": {
   "codemirror_mode": {
    "name": "ipython",
    "version": 3
   },
   "file_extension": ".py",
   "mimetype": "text/x-python",
   "name": "python",
   "nbconvert_exporter": "python",
   "pygments_lexer": "ipython3",
   "version": "3.8.8"
  }
 },
 "nbformat": 4,
 "nbformat_minor": 5
}
